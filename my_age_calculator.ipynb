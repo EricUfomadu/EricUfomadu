{
  "nbformat": 4,
  "nbformat_minor": 0,
  "metadata": {
    "colab": {
      "provenance": []
    },
    "kernelspec": {
      "name": "python3",
      "display_name": "Python 3"
    },
    "language_info": {
      "name": "python"
    }
  },
  "cells": [
    {
      "cell_type": "code",
      "execution_count": null,
      "metadata": {
        "id": "q5H5RI41fdNb"
      },
      "outputs": [],
      "source": [
        "currentyear = 2023\n",
        "# defining the year with which i will use to calculate the ages of the students\n",
        "a = input(\"Enter student 1 name: \")\n",
        "b = input(\"Enter student 2 name: \")\n",
        "c = input(\"Enter student 3 name: \")\n",
        "d = input(\"Enter student 4 name: \")\n",
        "p = \"years old\"\n",
        "# defining the \"years old\" as \"p\" which i will later format into the code\n",
        "student_names = [a,b,c,d]\n",
        "for i in range(1, 5):\n",
        "  # to delimit the propmpt display to 4 values and to repeat the prompt for the 4 students\n",
        "    age = int(input(f\"Enter birthyear of student {i}: \"))\n",
        "  #to make the code display the birthyear in interger and also repeat the question for the four students\n",
        "    student_ages = currentyear - age\n",
        "    # to calculate the ages of the students\n",
        "    print(f\"{student_names[i-1]} is {student_ages} {p}\")\n",
        "    #to allow the code to assign the names of the students as to scores and their ages\n",
        "    # the f allows me to be able to insert the already defined p variable\n"
      ]
    }
  ]
}