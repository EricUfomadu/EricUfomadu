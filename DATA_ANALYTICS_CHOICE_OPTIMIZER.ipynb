{
  "nbformat": 4,
  "nbformat_minor": 0,
  "metadata": {
    "colab": {
      "provenance": [],
      "authorship_tag": "ABX9TyPu1JKJb7VmIBquFhF5KZjO",
      "include_colab_link": true
    },
    "kernelspec": {
      "name": "python3",
      "display_name": "Python 3"
    },
    "language_info": {
      "name": "python"
    }
  },
  "cells": [
    {
      "cell_type": "markdown",
      "metadata": {
        "id": "view-in-github",
        "colab_type": "text"
      },
      "source": [
        "<a href=\"https://colab.research.google.com/github/EricUfomadu/EricUfomadu/blob/main/DATA_ANALYTICS_CHOICE_OPTIMIZER.ipynb\" target=\"_parent\"><img src=\"https://colab.research.google.com/assets/colab-badge.svg\" alt=\"Open In Colab\"/></a>"
      ]
    },
    {
      "cell_type": "code",
      "source": [
        "def optimal_choice_selector(choices, budget):\n",
        "    max_values = [[0 for _ in range(budget + 1)] for _ in range(len(choices) + 1)]\n",
        "\n",
        "    for i in range(1, len(choices) + 1):\n",
        "        for j in range(1, budget + 1):\n",
        "            if choices[i - 1]['cost'] > j:\n",
        "                max_values[i][j] = max_values[i - 1][j]\n",
        "            else:\n",
        "                max_values[i][j] = max(\n",
        "                    max_values[i - 1][j],\n",
        "                    max_values[i - 1][j - choices[i - 1]['cost']] + choices[i - 1]['value']\n",
        "                )\n",
        "\n",
        "    selected_choices = []\n",
        "    i, j = len(choices), budget\n",
        "    while i > 0 and j > 0:\n",
        "        if max_values[i][j] != max_values[i - 1][j]:\n",
        "            selected_choices.append(choices[i - 1])\n",
        "            j -= choices[i - 1]['cost']\n",
        "        i -= 1\n",
        "\n",
        "    return selected_choices\n",
        "\n",
        "\n",
        "# Get input from the user\n",
        "num_choices = int(input(\"Enter the number of choices: \"))\n",
        "\n",
        "choices = []\n",
        "for i in range(num_choices):\n",
        "    name = input(f\"Enter the name of choice {i + 1}: \")\n",
        "    cost = int(input(f\"Enter the cost of choice {i + 1}: \"))\n",
        "    value = int(input(f\"Enter the value of choice {i + 1}: \"))\n",
        "    choices.append({'name': name, 'cost': cost, 'value': value})\n",
        "\n",
        "budget = int(input(\"Enter the budget: \"))\n",
        "\n",
        "# Calculate and display the optimal property choices\n",
        "selected_choices = optimal_choice_selector(choices, budget)\n",
        "\n",
        "print(\"\\nOptimal Property Choices:\")\n",
        "if selected_choices:\n",
        "    for choice in selected_choices:\n",
        "        print(choice['name'])\n",
        "else:\n",
        "    print(\"No choices can be selected within the given budget.\")"
      ],
      "metadata": {
        "id": "QiTs6DgD5hW9"
      },
      "execution_count": null,
      "outputs": []
    }
  ]
}