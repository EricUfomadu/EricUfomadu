{
  "nbformat": 4,
  "nbformat_minor": 0,
  "metadata": {
    "colab": {
      "provenance": [],
      "authorship_tag": "ABX9TyNebvdDxKrw8h+jXbdvFh5H",
      "include_colab_link": true
    },
    "kernelspec": {
      "name": "python3",
      "display_name": "Python 3"
    },
    "language_info": {
      "name": "python"
    }
  },
  "cells": [
    {
      "cell_type": "markdown",
      "metadata": {
        "id": "view-in-github",
        "colab_type": "text"
      },
      "source": [
        "<a href=\"https://colab.research.google.com/github/EricUfomadu/EricUfomadu/blob/main/dice_game_coding.ipynb\" target=\"_parent\"><img src=\"https://colab.research.google.com/assets/colab-badge.svg\" alt=\"Open In Colab\"/></a>"
      ]
    },
    {
      "cell_type": "code",
      "execution_count": null,
      "metadata": {
        "id": "JdVR0Imxe8Fa"
      },
      "outputs": [],
      "source": [
        "import random\n",
        "\n",
        "\n",
        "def roll():\n",
        "    min_value = 1\n",
        "    max_value = 6\n",
        "    roll = random.randint(min_value, max_value)\n",
        "\n",
        "    return roll\n",
        "\n",
        "\n",
        "while True:\n",
        "    players = input(\"Enter the number of players (2 - 4): \")\n",
        "    if players.isdigit():\n",
        "        players = int(players)\n",
        "        if 2 <= players <= 4:\n",
        "            break\n",
        "        else:\n",
        "            print(\"Must be between 2 - 4 players.\")\n",
        "    else:\n",
        "        print(\"Invalid, try again.\")\n",
        "\n",
        "max_score = 50\n",
        "player_scores = [0 for _ in range(players)]\n",
        "\n",
        "while max(player_scores) < max_score:\n",
        "    for player_idx in range(players):\n",
        "        print(\"\\nPlayer number\", player_idx + 1, \"turn has just started!\")\n",
        "        print(\"Your total score is:\", player_scores[player_idx], \"\\n\")\n",
        "        current_score = 0\n",
        "\n",
        "        while True:\n",
        "            should_roll = input(\"Would you like to roll (y)? \")\n",
        "            if should_roll.lower() != \"y\":\n",
        "                break\n",
        "\n",
        "            value = roll()\n",
        "            if value == 1:\n",
        "                print(\"You rolled a 1! Turn done!\")\n",
        "                current_score = 0\n",
        "                break\n",
        "            else:\n",
        "                current_score += value\n",
        "                print(\"You rolled a:\", value)\n",
        "\n",
        "            print(\"Your score is:\", current_score)\n",
        "\n",
        "        player_scores[player_idx] += current_score\n",
        "        print(\"Your total score is:\", player_scores[player_idx])\n",
        "\n",
        "max_score = max(player_scores)\n",
        "winning_idx = player_scores.index(max_score)\n",
        "print(\"Player number\", winning_idx + 1,\n",
        "      \"is the winner with a score of:\", max_score)\n"
      ]
    }
  ]
}