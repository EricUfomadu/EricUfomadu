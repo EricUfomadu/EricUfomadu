{
  "nbformat": 4,
  "nbformat_minor": 0,
  "metadata": {
    "colab": {
      "provenance": []
    },
    "kernelspec": {
      "name": "python3",
      "display_name": "Python 3"
    },
    "language_info": {
      "name": "python"
    }
  },
  "cells": [
    {
      "cell_type": "code",
      "execution_count": null,
      "metadata": {
        "id": "qLpt1tgffJZz"
      },
      "outputs": [],
      "source": [
        "import random\n",
        "import time\n",
        "\n",
        "aname = input(\"Enter your name: \")\n",
        "print(f\"{aname}, Ready to Start the Math WIZI Game?\")\n",
        "OPERATORS = [\"+\", \"-\", \"*\"]\n",
        "MIN_OPERAND = 6\n",
        "MAX_OPERAND = 20\n",
        "TOTAL_PROBLEMS = 10\n",
        "\n",
        "\n",
        "def generate_problem():\n",
        "    left = random.randint(MIN_OPERAND, MAX_OPERAND)\n",
        "    right = random.randint(MIN_OPERAND, MAX_OPERAND)\n",
        "    operator = random.choice(OPERATORS)\n",
        "\n",
        "    expr = str(left) + \" \" + operator + \" \" + str(right)\n",
        "    answer = eval(expr)\n",
        "    return expr, answer\n",
        "\n",
        "\n",
        "wrong = 0\n",
        "input(\"Press enter to start!\")\n",
        "print(\"----------------------\")\n",
        "\n",
        "start_time = time.time()\n",
        "\n",
        "for i in range(TOTAL_PROBLEMS):\n",
        "    expr, answer = generate_problem()\n",
        "    while True:\n",
        "        guess = input(\"Problem #\" + str(i + 1) + \": \" + expr + \" = \")\n",
        "        if guess == str(answer):\n",
        "            break\n",
        "        wrong += 1\n",
        "\n",
        "end_time = time.time()\n",
        "total_time = round(end_time - start_time, 2)\n",
        "\n",
        "print(\"----------------------\")\n",
        "print(f\"{aname}, Nice work! You finished in\", total_time, \"seconds!\")"
      ]
    }
  ]
}