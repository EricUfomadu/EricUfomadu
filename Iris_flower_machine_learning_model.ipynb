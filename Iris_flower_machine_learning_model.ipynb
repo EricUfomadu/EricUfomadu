{
  "nbformat": 4,
  "nbformat_minor": 0,
  "metadata": {
    "colab": {
      "provenance": [],
      "authorship_tag": "ABX9TyP7ry5X5B7jhz17doNXroc9",
      "include_colab_link": true
    },
    "kernelspec": {
      "name": "python3",
      "display_name": "Python 3"
    },
    "language_info": {
      "name": "python"
    }
  },
  "cells": [
    {
      "cell_type": "markdown",
      "metadata": {
        "id": "view-in-github",
        "colab_type": "text"
      },
      "source": [
        "<a href=\"https://colab.research.google.com/github/EricUfomadu/EricUfomadu/blob/main/Iris_flower_machine_learning_model.ipynb\" target=\"_parent\"><img src=\"https://colab.research.google.com/assets/colab-badge.svg\" alt=\"Open In Colab\"/></a>"
      ]
    },
    {
      "cell_type": "code",
      "execution_count": null,
      "metadata": {
        "id": "y7FhacfpwPXq"
      },
      "outputs": [],
      "source": []
    },
    {
      "cell_type": "code",
      "source": [
        "import numpy as np\n",
        "from sklearn.datasets import load_breast_cancer\n",
        "from sklearn.model_selection import train_test_split\n",
        "from sklearn.preprocessing import StandardScaler\n",
        "from sklearn.neighbors import KNeighborsClassifier\n",
        "from sklearn.metrics import classification_report, accuracy_score\n",
        "cancer = load_breast_cancer()\n",
        "X, y = cancer.data, cancer.target\n",
        "X_train, X_test, y_train, y_test = train_test_split(X, y, test_size=0.2, random_state=42)\n",
        "\n",
        "\n",
        "scaler = StandardScaler()\n",
        "X_train = scaler.fit_transform(X_train)\n",
        "X_test = scaler.transform(X_test)\n",
        "knn = KNeighborsClassifier(n_neighbors=3)\n",
        "knn.fit(X_train, y_train)\n",
        "y_pred = knn.predict(X_test)\n",
        "\n",
        "print(f\"Accuracy: {accuracy_score(y_test, y_pred) * 100:.2f}%\")\n",
        "print(\"Classification Report:\")\n",
        "print(classification_report(y_test, y_pred,\n",
        "target_names= cancer.target_names))\n",
        "\n",
        "\n",
        "print()\n",
        "print()\n",
        "npatient = np.array([[14.13, 22.15, 91.25, 632.9, 0.08482, 0.09293, 0.03483, 0.1822, 0.06207, 22.81, 0.004117, 0.0156, 0.02075, 0.008925, 782.9, 0.1223, 0.1928, 0.2492, 0.09186, 0.2626, 0.07048, 678.4, 0.06754, 0.876, 786.4, 0.06078, 0.0432, 0.00543, 879.1, 0.62453]])\n",
        "npatientscaled = scaler.transform(npatient)\n",
        "prediction = knn.predict(npatientscaled)\n",
        "pclass = cancer.target_names[prediction][0]\n",
        "print(f\"the model predicts the tumor to be: {pclass}\")"
      ],
      "metadata": {
        "colab": {
          "base_uri": "https://localhost:8080/"
        },
        "id": "ATrygeFgqbRN",
        "outputId": "cceefa2a-c923-4f65-faa8-5b4634f47997"
      },
      "execution_count": null,
      "outputs": [
        {
          "output_type": "stream",
          "name": "stdout",
          "text": [
            "Accuracy: 94.74%\n",
            "Classification Report:\n",
            "              precision    recall  f1-score   support\n",
            "\n",
            "   malignant       0.93      0.93      0.93        43\n",
            "      benign       0.96      0.96      0.96        71\n",
            "\n",
            "    accuracy                           0.95       114\n",
            "   macro avg       0.94      0.94      0.94       114\n",
            "weighted avg       0.95      0.95      0.95       114\n",
            "\n",
            "\n",
            "\n",
            "the model predicts the tumor to be: malignant\n"
          ]
        }
      ]
    }
  ]
}