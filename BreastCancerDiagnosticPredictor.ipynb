{
  "nbformat": 4,
  "nbformat_minor": 0,
  "metadata": {
    "colab": {
      "provenance": [],
      "authorship_tag": "ABX9TyN70BM4dqozDLt6rePUZByI",
      "include_colab_link": true
    },
    "kernelspec": {
      "name": "python3",
      "display_name": "Python 3"
    },
    "language_info": {
      "name": "python"
    }
  },
  "cells": [
    {
      "cell_type": "markdown",
      "metadata": {
        "id": "view-in-github",
        "colab_type": "text"
      },
      "source": [
        "<a href=\"https://colab.research.google.com/github/EricUfomadu/EricUfomadu/blob/main/BreastCancerDiagnosticPredictor.ipynb\" target=\"_parent\"><img src=\"https://colab.research.google.com/assets/colab-badge.svg\" alt=\"Open In Colab\"/></a>"
      ]
    },
    {
      "cell_type": "code",
      "execution_count": null,
      "metadata": {
        "colab": {
          "base_uri": "https://localhost:8080/"
        },
        "id": "76L3nVdpvKhp",
        "outputId": "f01d08b7-5e60-4996-e221-977b876f1038"
      },
      "outputs": [
        {
          "output_type": "stream",
          "name": "stdout",
          "text": [
            "Please enter the following features for the breast tumor:\n"
          ]
        }
      ],
      "source": [
        "# a model that predicts whether an adult female has breast cancer based upon the winsconsin breast cancer diagnostic dataset\n",
        "import numpy as np\n",
        "\n",
        "# Function to get input from the user for each feature\n",
        "def get_user_input():\n",
        "    print(\"Please enter the following features for the breast tumor:\")\n",
        "\n",
        "    features = []\n",
        "    feature_names = ['mean radius', 'mean texture', 'mean perimeter', 'mean area',\n",
        "                     'mean smoothness', 'mean compactness', 'mean concavity',\n",
        "                     'mean concave points', 'mean symmetry', 'mean fractal dimension',\n",
        "                     'radius error', 'texture error', 'perimeter error', 'area error',\n",
        "                     'smoothness error', 'compactness error', 'concavity error',\n",
        "                     'concave points error', 'symmetry error', 'fractal dimension error',\n",
        "                     'worst radius', 'worst texture', 'worst perimeter', 'worst area',\n",
        "                     'worst smoothness', 'worst compactness', 'worst concavity',\n",
        "                     'worst concave points', 'worst symmetry', 'worst fractal dimension']\n",
        "\n",
        "    # Loop through each feature name and get user input\n",
        "    for feature in feature_names:\n",
        "        while True:\n",
        "            try:\n",
        "                value = float(input(f\"Enter {feature}: \"))\n",
        "                features.append(value)\n",
        "                break\n",
        "            except ValueError:\n",
        "                print(f\"Invalid input for {feature}. Please enter a valid floating-point value.\")\n",
        "\n",
        "    return np.array(features)\n",
        "\n",
        "# Get the user's input\n",
        "user_input = get_user_input()\n",
        "\n",
        "# Reshape the input to match the model's expected format\n",
        "user_input = user_input.reshape(1, -1)\n",
        "\n",
        "# Assuming 'scaler' and 'knn' are pre-trained model and scaler\n",
        "# Use the scaler to transform the user's input\n",
        "user_input_scaled = scaler.transform(user_input)\n",
        "\n",
        "# Use the model to make a prediction\n",
        "prediction = knn.predict(user_input_scaled)\n",
        "\n",
        "# Output the prediction\n",
        "predicted_class = \"malignant\" if prediction[0] == 1 else \"benign\"\n",
        "print(f\"\\nThe model predicts the tumor to be: {predicted_class}\")\n"
      ]
    }
  ]
}