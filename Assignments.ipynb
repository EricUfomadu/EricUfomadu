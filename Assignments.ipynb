{
  "nbformat": 4,
  "nbformat_minor": 0,
  "metadata": {
    "colab": {
      "provenance": [],
      "authorship_tag": "ABX9TyMhI2bq35EpHtxuACZ7BLDD",
      "include_colab_link": true
    },
    "kernelspec": {
      "name": "python3",
      "display_name": "Python 3"
    },
    "language_info": {
      "name": "python"
    }
  },
  "cells": [
    {
      "cell_type": "markdown",
      "metadata": {
        "id": "view-in-github",
        "colab_type": "text"
      },
      "source": [
        "<a href=\"https://colab.research.google.com/github/EricUfomadu/EricUfomadu/blob/main/Assignments.ipynb\" target=\"_parent\"><img src=\"https://colab.research.google.com/assets/colab-badge.svg\" alt=\"Open In Colab\"/></a>"
      ]
    },
    {
      "cell_type": "code",
      "execution_count": null,
      "metadata": {
        "colab": {
          "base_uri": "https://localhost:8080/"
        },
        "id": "wqEEav2ou2b8",
        "outputId": "03cca503-d209-4416-e535-284f755871cd"
      },
      "outputs": [
        {
          "output_type": "stream",
          "name": "stdout",
          "text": [
            "Enter student 1 name: Eric\n",
            "Enter student 2 name: James\n",
            "Enter student 3 name: Oscar\n",
            "Enter student 4 name: Peter\n",
            "Enter birthyear of student 1: 2000\n",
            "Eric is 23 years old\n",
            "Enter birthyear of student 2: 2003\n",
            "James is 20 years old\n",
            "Enter birthyear of student 3: 2004\n",
            "Oscar is 19 years old\n",
            "Enter birthyear of student 4: 2012\n",
            "Peter is 11 years old\n"
          ]
        }
      ],
      "source": [
        "currentyear = 2023\n",
        "# defining the year with which i will use to calculate the ages of the students\n",
        "a = input(\"Enter student 1 name: \")\n",
        "b = input(\"Enter student 2 name: \")\n",
        "c = input(\"Enter student 3 name: \")\n",
        "d = input(\"Enter student 4 name: \")\n",
        "p = \"years old\"\n",
        "# defining the \"years old\" as \"p\" which i will later format into the code\n",
        "student_names = [a,b,c,d]\n",
        "for i in range(1, 5):\n",
        "  # to delimit the propmpt display to 4 values and to repeat the prompt for the 4 students\n",
        "    age = int(input(f\"Enter birthyear of student {i}: \"))\n",
        "  #to make the code display the birthyear in interger and also repeat the question for the four students\n",
        "    student_ages = currentyear - age\n",
        "    # to calculate the ages of the students\n",
        "    print(f\"{student_names[i-1]} is {student_ages} {p}\")\n",
        "    #to allow the code to assign the names of the students as to scores and their ages\n",
        "    # the f allows me to be able to insert the already defined p variable\n"
      ]
    },
    {
      "cell_type": "code",
      "source": [
        "def Hello():\n",
        "  # to greet and welcome the user\n",
        "  aname = input(\"Enter your name: \")\n",
        "  # to store the name of the operator or user in a variable and tell him or her to input name\n",
        "  print(f\"{aname}, welcome to Stetson grade calculator\")\n",
        "#to call the name of the user back here as a joinder to the sentence, you have to use format function\n",
        "\n",
        "\n",
        "def name():\n",
        "  student1 = input(\"Enter the student name: \")\n",
        "  #to tell the user to input the first student's name\n",
        "  return student1\n",
        "  #to recall the student\n",
        "\n",
        "\n",
        "def calc(student1):\n",
        "    r = float(input(\"Enter first exam score: \"))\n",
        "    # recognises that the exam score value might be in decimal, hence, the float and also tells the user to input the student's exam score\n",
        "    s = float(input(\"Enter second exam score: \"))\n",
        "    t = float(input(\"Enter third exam score: \"))\n",
        "    sum = float(r + s + t)\n",
        "    # a calculator function to add and get the total scores\n",
        "    average_exam_score = sum / 3\n",
        "    # a function to get the average scores of the 3 exam scores\n",
        "    print(f\"{student1}'s average score is {average_exam_score:.2f}\")\n",
        "    #to include the student's name to the sentence and tells the computer to print it out, while calculating the average scores and formatting it to 2 significant places incase there is a decimal or float value\n",
        "    return average_exam_score\n",
        "\n",
        "def calculate_letter_grades(student1, average_exam_score):\n",
        "  #methods to allow me use variables from previous methods\n",
        "    if average_exam_score >= 90 and average_exam_score <= 100:\n",
        "      #conditions that define the range of scores and output\n",
        "      print(f\"{student1}'s grade is A\")\n",
        "    elif average_exam_score >= 80 and average_exam_score <= 89:\n",
        "      print(f\"{student1}'s grade is B\")\n",
        "    elif average_exam_score >= 70 and average_exam_score <= 79:\n",
        "      print(f\"{student1}'s grade is C\")\n",
        "    elif average_exam_score >= 60 and average_exam_score <= 69:\n",
        "      print(f\"{student1}'s grade is D\")\n",
        "    elif average_exam_score >= 50 and average_exam_score <= 59:\n",
        "      print(f\"{student1}'s grade is E\")\n",
        "    elif average_exam_score >= 1 and   average_exam_score <= 49:\n",
        "      print(f\"{student1}'s grade is F\")\n",
        "    else:\n",
        "      print(\"Invalid input\")\n",
        "\n",
        "\n",
        "\n",
        "\n",
        "\n",
        "def goodbye():\n",
        "  #to define the goodbye method\n",
        "  print(\"Thank you for using this calculator\")\n",
        "\n",
        "\n",
        "\n",
        "\n",
        "\n",
        "Hello()\n",
        "#to call back the hello method\n",
        "\n",
        "for num in range(4):\n",
        "  v = name()\n",
        "  #to call the name method\n",
        "  w = calc(v)\n",
        "  #to call the calc method\n",
        "  x = calculate_letter_grades(v, w)\n",
        "  goodbye()\n",
        "  #calling the goodbye function\n"
      ],
      "metadata": {
        "id": "ZXG-uLfyPwWM",
        "colab": {
          "base_uri": "https://localhost:8080/"
        },
        "outputId": "c2bb4504-b94b-4a58-800a-71bdbece6a81"
      },
      "execution_count": null,
      "outputs": [
        {
          "metadata": {
            "tags": null
          },
          "name": "stdout",
          "output_type": "stream",
          "text": [
            "Eric Ufomadu, welcome to Stetson grade calculator\n",
            "Peter Ufomadu's average score is 94.67\n",
            "Peter Ufomadu's grade is A\n",
            "Thank you for using this calculator\n"
          ]
        }
      ]
    }
  ]
}