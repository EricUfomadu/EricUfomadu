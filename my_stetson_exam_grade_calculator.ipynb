{
  "nbformat": 4,
  "nbformat_minor": 0,
  "metadata": {
    "colab": {
      "provenance": []
    },
    "kernelspec": {
      "name": "python3",
      "display_name": "Python 3"
    },
    "language_info": {
      "name": "python"
    }
  },
  "cells": [
    {
      "cell_type": "code",
      "execution_count": null,
      "metadata": {
        "id": "oNaLtnujfrZE"
      },
      "outputs": [],
      "source": [
        "def Hello():\n",
        "  # to greet and welcome the user\n",
        "  aname = input(\"Enter your name: \")\n",
        "  # to store the name of the operator or user in a variable and tell him or her to input name\n",
        "  print(f\"{aname}, welcome to Stetson grade calculator\")\n",
        "#to call the name of the user back here as a joinder to the sentence, you have to use format function\n",
        "\n",
        "\n",
        "def name():\n",
        "  student1 = input(\"Enter the student name: \")\n",
        "  #to tell the user to input the first student's name\n",
        "  return student1\n",
        "  #to recall the student\n",
        "\n",
        "\n",
        "def calc(student1):\n",
        "    r = float(input(\"Enter first exam score: \"))\n",
        "    # recognises that the exam score value might be in decimal, hence, the float and also tells the user to input the student's exam score\n",
        "    s = float(input(\"Enter second exam score: \"))\n",
        "    t = float(input(\"Enter third exam score: \"))\n",
        "    sum = float(r + s + t)\n",
        "    # a calculator function to add and get the total scores\n",
        "    average_exam_score = sum / 3\n",
        "    # a function to get the average scores of the 3 exam scores\n",
        "    print(f\"{student1}'s average score is {average_exam_score:.2f}\")\n",
        "    #to include the student's name to the sentence and tells the computer to print it out, while calculating the average scores and formatting it to 2 significant places incase there is a decimal or float value\n",
        "    return average_exam_score\n",
        "\n",
        "def calculate_letter_grades(student1, average_exam_score):\n",
        "  #methods to allow me use variables from previous methods\n",
        "    if average_exam_score >= 90 and average_exam_score <= 100:\n",
        "      #conditions that define the range of scores and output\n",
        "      print(f\"{student1}'s grade is A\")\n",
        "    elif average_exam_score >= 80 and average_exam_score <= 89:\n",
        "      print(f\"{student1}'s grade is B\")\n",
        "    elif average_exam_score >= 70 and average_exam_score <= 79:\n",
        "      print(f\"{student1}'s grade is C\")\n",
        "    elif average_exam_score >= 60 and average_exam_score <= 69:\n",
        "      print(f\"{student1}'s grade is D\")\n",
        "    elif average_exam_score >= 50 and average_exam_score <= 59:\n",
        "      print(f\"{student1}'s grade is E\")\n",
        "    elif average_exam_score >= 1 and   average_exam_score <= 49:\n",
        "      print(f\"{student1}'s grade is F\")\n",
        "    else:\n",
        "      print(\"Invalid input\")\n",
        "\n",
        "\n",
        "\n",
        "\n",
        "\n",
        "def goodbye():\n",
        "  #to define the goodbye method\n",
        "  print(\"Thank you for using this calculator\")\n",
        "\n",
        "\n",
        "\n",
        "\n",
        "\n",
        "Hello()\n",
        "#to call back the hello method\n",
        "\n",
        "for num in range(4):\n",
        "  v = name()\n",
        "  #to call the name method\n",
        "  w = calc(v)\n",
        "  #to call the calc method\n",
        "  x = calculate_letter_grades(v, w)\n",
        "  goodbye()\n",
        "  #calling the goodbye function\n"
      ]
    }
  ]
}